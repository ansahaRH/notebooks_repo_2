{
 "cells": [
  {
   "cell_type": "code",
   "execution_count": 5,
   "id": "36480777-69a2-40ad-9ec6-36631b6d1fd7",
   "metadata": {
    "tags": []
   },
   "outputs": [
    {
     "name": "stdout",
     "output_type": "stream",
     "text": [
      "doug is getting ghosted\n"
     ]
    }
   ],
   "source": [
    "print('doug is getting ghosted')"
   ]
  },
  {
   "cell_type": "code",
   "execution_count": null,
   "id": "14ef4b8c-19aa-4ca0-badc-6e8e83febde6",
   "metadata": {},
   "outputs": [],
   "source": []
  }
 ],
 "metadata": {
  "kernelspec": {
   "display_name": "",
   "name": ""
  },
  "language_info": {
   "name": ""
  }
 },
 "nbformat": 4,
 "nbformat_minor": 5
}
