{
 "cells": [
  {
   "cell_type": "code",
   "execution_count": 5,
   "id": "8d3dd0f4",
   "metadata": {
    "tags": []
   },
   "outputs": [
    {
     "name": "stdout",
     "output_type": "stream",
     "text": [
      "doug is getting ghosted\n"
     ]
    }
   ],
   "source": [
    "print('doug is getting ghosted')"
   ]
  },
  {
   "cell_type": "code",
   "execution_count": 2,
   "id": "f915f21e",
   "metadata": {
    "tags": []
   },
   "outputs": [
    {
     "name": "stdout",
     "output_type": "stream",
     "text": [
      "hello\n"
     ]
    }
   ],
   "source": [
    "print('hello')"
   ]
  },
  {
   "cell_type": "code",
   "execution_count": 4,
   "id": "e3372235",
   "metadata": {
    "tags": []
   },
   "outputs": [
    {
     "name": "stdout",
     "output_type": "stream",
     "text": [
      "doug\n"
     ]
    }
   ],
   "source": [
    "print('doug')"
   ]
  },
  {
   "cell_type": "code",
   "execution_count": null,
   "id": "c4f23329",
   "metadata": {},
   "outputs": [],
   "source": []
  }
 ],
 "metadata": {
  "kernelspec": {
   "display_name": "",
   "name": ""
  },
  "language_info": {
   "name": ""
  }
 },
 "nbformat": 4,
 "nbformat_minor": 5
}
