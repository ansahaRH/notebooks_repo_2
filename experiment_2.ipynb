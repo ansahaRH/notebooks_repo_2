{
 "cells": [
  {
   "cell_type": "code",
   "execution_count": 2,
   "id": "7240f52f-45b2-4af2-9a01-34706ffcf1ec",
   "metadata": {
    "tags": []
   },
   "outputs": [
    {
     "name": "stdout",
     "output_type": "stream",
     "text": [
      "hello\n"
     ]
    }
   ],
   "source": [
    "print('hello')"
   ]
  },
  {
   "cell_type": "code",
   "execution_count": 4,
   "id": "348d5adc-26a9-4005-bd05-855156b6511b",
   "metadata": {
    "tags": []
   },
   "outputs": [
    {
     "name": "stdout",
     "output_type": "stream",
     "text": [
      "doug\n"
     ]
    }
   ],
   "source": [
    "print('doug')"
   ]
  },
  {
   "cell_type": "code",
   "execution_count": null,
   "id": "157c6464-27e2-4e93-97a7-ab7baf979b8a",
   "metadata": {},
   "outputs": [],
   "source": []
  }
 ],
 "metadata": {
  "kernelspec": {
   "display_name": "",
   "name": ""
  },
  "language_info": {
   "name": ""
  }
 },
 "nbformat": 4,
 "nbformat_minor": 5
}
